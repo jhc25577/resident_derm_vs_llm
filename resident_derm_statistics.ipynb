{
 "cells": [
  {
   "cell_type": "code",
   "execution_count": 4,
   "id": "378d883f",
   "metadata": {},
   "outputs": [],
   "source": [
    "import pandas as pd\n",
    "import seaborn\n",
    "import matplotlib.pyplot as plt\n",
    "from sklearn import metrics"
   ]
  },
  {
   "cell_type": "code",
   "execution_count": 5,
   "id": "3f284e0a",
   "metadata": {},
   "outputs": [],
   "source": [
    "data = pd.read_csv('melanoma_data/Melanoma 250 SS Answers version 1.csv')"
   ]
  },
  {
   "cell_type": "code",
   "execution_count": 6,
   "id": "f8104d50",
   "metadata": {},
   "outputs": [
    {
     "data": {
      "text/html": [
       "<div>\n",
       "<style scoped>\n",
       "    .dataframe tbody tr th:only-of-type {\n",
       "        vertical-align: middle;\n",
       "    }\n",
       "\n",
       "    .dataframe tbody tr th {\n",
       "        vertical-align: top;\n",
       "    }\n",
       "\n",
       "    .dataframe thead th {\n",
       "        text-align: right;\n",
       "    }\n",
       "</style>\n",
       "<table border=\"1\" class=\"dataframe\">\n",
       "  <thead>\n",
       "    <tr style=\"text-align: right;\">\n",
       "      <th></th>\n",
       "      <th>truth</th>\n",
       "      <th>resident_derm</th>\n",
       "      <th>chatgpt</th>\n",
       "    </tr>\n",
       "  </thead>\n",
       "  <tbody>\n",
       "    <tr>\n",
       "      <th>0</th>\n",
       "      <td>melanoma</td>\n",
       "      <td>not melanoma</td>\n",
       "      <td>melanoma</td>\n",
       "    </tr>\n",
       "    <tr>\n",
       "      <th>1</th>\n",
       "      <td>melanoma</td>\n",
       "      <td>melanoma</td>\n",
       "      <td>melanoma</td>\n",
       "    </tr>\n",
       "    <tr>\n",
       "      <th>2</th>\n",
       "      <td>not melanoma</td>\n",
       "      <td>not melanoma</td>\n",
       "      <td>melanoma</td>\n",
       "    </tr>\n",
       "    <tr>\n",
       "      <th>3</th>\n",
       "      <td>not melanoma</td>\n",
       "      <td>melanoma</td>\n",
       "      <td>melanoma</td>\n",
       "    </tr>\n",
       "    <tr>\n",
       "      <th>4</th>\n",
       "      <td>melanoma</td>\n",
       "      <td>melanoma</td>\n",
       "      <td>melanoma</td>\n",
       "    </tr>\n",
       "  </tbody>\n",
       "</table>\n",
       "</div>"
      ],
      "text/plain": [
       "          truth resident_derm   chatgpt\n",
       "0      melanoma  not melanoma  melanoma\n",
       "1      melanoma      melanoma  melanoma\n",
       "2  not melanoma  not melanoma  melanoma\n",
       "3  not melanoma      melanoma  melanoma\n",
       "4      melanoma      melanoma  melanoma"
      ]
     },
     "execution_count": 6,
     "metadata": {},
     "output_type": "execute_result"
    }
   ],
   "source": [
    "data.head()"
   ]
  },
  {
   "cell_type": "code",
   "execution_count": 10,
   "id": "822b7427",
   "metadata": {},
   "outputs": [
    {
     "data": {
      "image/png": "[encoded data removed]",
      "text/plain": [
       "<Figure size 432x288 with 2 Axes>"
      ]
     },
     "metadata": {
      "needs_background": "light"
     },
     "output_type": "display_data"
    }
   ],
   "source": [
    "confusion_matrix = metrics.confusion_matrix(data['truth'], data['resident_derm'])\n",
    "cm_display = metrics.ConfusionMatrixDisplay(confusion_matrix = confusion_matrix)\n",
    "cm_display.plot()\n",
    "plt.show()"
   ]
  },
  {
   "cell_type": "code",
   "execution_count": 14,
   "id": "87b8d11e",
   "metadata": {},
   "outputs": [
    {
     "name": "stdout",
     "output_type": "stream",
     "text": [
      "Accuracy:  0.736\n",
      "F1:  0.736\n",
      "Recall:  0.736\n",
      "Precision:  0.736\n"
     ]
    }
   ],
   "source": [
    "F1 = metrics.f1_score(data['truth'],data['resident_derm'], average='binary',pos_label=\"melanoma\")\n",
    "recall = metrics.recall_score(data['truth'],data['resident_derm'], average='binary',pos_label=\"melanoma\")\n",
    "precision = metrics.precision_score(data['truth'],data['resident_derm'], average='binary',pos_label=\"melanoma\")\n",
    "accuracy = metrics.accuracy_score(data['truth'],data['resident_derm'])\n",
    "\n",
    "print(\"Accuracy: \", accuracy)\n",
    "print(\"F1: \", F1)\n",
    "print(\"Recall: \", recall)\n",
    "print(\"Precision: \", precision)"
   ]
  },
  {
   "cell_type": "code",
   "execution_count": 19,
   "id": "0c31f040",
   "metadata": {},
   "outputs": [],
   "source": [
    "data1 = data[['truth', 'chatgpt']].copy()"
   ]
  },
  {
   "cell_type": "code",
   "execution_count": 20,
   "id": "99329864",
   "metadata": {},
   "outputs": [],
   "source": [
    "data1 = data1.dropna()"
   ]
  },
  {
   "cell_type": "code",
   "execution_count": 34,
   "id": "642a59d9",
   "metadata": {},
   "outputs": [],
   "source": [
    "data1 = data1[['truth', 'chatgpt']].copy()"
   ]
  },
  {
   "cell_type": "code",
   "execution_count": 44,
   "id": "78edd97f",
   "metadata": {},
   "outputs": [
    {
     "data": {
      "image/png": "[encoded data removed]",
      "text/plain": [
       "<Figure size 432x288 with 2 Axes>"
      ]
     },
     "metadata": {
      "needs_background": "light"
     },
     "output_type": "display_data"
    }
   ],
   "source": [
    "confusion_matrix = metrics.confusion_matrix(data1['truth'], data1['chatgpt'])\n",
    "cm_display = metrics.ConfusionMatrixDisplay(confusion_matrix = confusion_matrix, display_labels=['1', '0'])\n",
    "cm_display.plot()\n",
    "plt.show()"
   ]
  },
  {
   "cell_type": "code",
   "execution_count": 36,
   "id": "50764944",
   "metadata": {},
   "outputs": [
    {
     "name": "stdout",
     "output_type": "stream",
     "text": [
      "Accuracy:  0.5313807531380753\n",
      "F1:  0.672514619883041\n",
      "Recall:  0.92\n",
      "Precision:  0.5299539170506913\n"
     ]
    }
   ],
   "source": [
    "F1 = metrics.f1_score(data1['truth'],data1['chatgpt'], average='binary',pos_label=\"melanoma\")\n",
    "recall = metrics.recall_score(data1['truth'],data1['chatgpt'], average='binary',pos_label=\"melanoma\")\n",
    "precision = metrics.precision_score(data1['truth'],data1['chatgpt'], average='binary',pos_label=\"melanoma\")\n",
    "accuracy = metrics.accuracy_score(data1['truth'],data1['chatgpt'])\n",
    "\n",
    "print(\"Accuracy: \", accuracy)\n",
    "print(\"F1: \", F1)\n",
    "print(\"Recall: \", recall)\n",
    "print(\"Precision: \", precision)"
   ]
  },
  {
   "cell_type": "code",
   "execution_count": 42,
   "id": "df438694",
   "metadata": {},
   "outputs": [
    {
     "name": "stdout",
     "output_type": "stream",
     "text": [
      "key error\n",
      "key error\n",
      "key error\n",
      "key error\n",
      "key error\n",
      "key error\n",
      "key error\n",
      "key error\n",
      "key error\n",
      "key error\n",
      "key error\n",
      "key error\n",
      "key error\n",
      "key error\n",
      "key error\n",
      "key error\n",
      "key error\n",
      "key error\n",
      "key error\n",
      "key error\n",
      "key error\n",
      "key error\n",
      "key error\n",
      "key error\n",
      "key error\n",
      "key error\n",
      "key error\n",
      "key error\n",
      "key error\n",
      "key error\n",
      "key error\n",
      "key error\n",
      "key error\n",
      "key error\n",
      "key error\n",
      "key error\n",
      "key error\n",
      "key error\n",
      "key error\n",
      "key error\n",
      "109\n",
      "12\n",
      "98\n",
      "10\n"
     ]
    }
   ],
   "source": [
    "tp = 0\n",
    "tn = 0\n",
    "fp = 0\n",
    "fn = 0\n",
    "\n",
    "for i in range(0, len(data1)):\n",
    "    try:\n",
    "        if data1['truth'][i] == 'melanoma' and data1['chatgpt'][i] == 'melanoma':\n",
    "            tp = tp + 1\n",
    "    except:\n",
    "        print('key error')\n",
    "    try:\n",
    "        if data1['truth'][i] == 'melanoma' and data1['chatgpt'][i] == 'not melanoma':\n",
    "            fn = fn + 1\n",
    "    except:\n",
    "        print('key error')\n",
    "    try:\n",
    "        if data1['truth'][i] == 'not melanoma' and data1['chatgpt'][i] == 'not melanoma':\n",
    "            tn = tn + 1\n",
    "    except:\n",
    "        print('key error')\n",
    "    try:\n",
    "        if data1['truth'][i] == 'not melanoma' and data1['chatgpt'][i] == 'melanoma':\n",
    "            fp = fp + 1\n",
    "    except:\n",
    "        print('key error')\n",
    "\n",
    "\n",
    "print(tp)\n",
    "print(tn)\n",
    "print(fp)\n",
    "print(fn)\n",
    "        "
   ]
  }
 ],
 "metadata": {
  "kernelspec": {
   "display_name": "Python 3",
   "language": "python",
   "name": "python3"
  },
  "language_info": {
   "codemirror_mode": {
    "name": "ipython",
    "version": 3
   },
   "file_extension": ".py",
   "mimetype": "text/x-python",
   "name": "python",
   "nbconvert_exporter": "python",
   "pygments_lexer": "ipython3",
   "version": "3.8.8"
  }
 },
 "nbformat": 4,
 "nbformat_minor": 5
}
